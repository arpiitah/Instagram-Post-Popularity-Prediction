{
 "cells": [
  {
   "cell_type": "code",
   "execution_count": 2,
   "id": "95dccb8c",
   "metadata": {},
   "outputs": [],
   "source": [
    "import pandas as pd\n",
    "import numpy as np\n",
    "import re\n",
    "from sklearn.model_selection import train_test_split\n",
    "from sklearn.linear_model import LogisticRegression\n",
    "from sklearn.metrics import accuracy_score, roc_auc_score, f1_score \n",
    "from sklearn.metrics import confusion_matrix\n",
    "import nltk\n",
    "from nltk.corpus import stopwords\n",
    "from string import punctuation\n",
    "from sklearn.feature_extraction.text import TfidfVectorizer\n",
    "\n",
    "import matplotlib.pyplot as plt\n",
    "from sklearn.utils.multiclass import unique_labels\n",
    "\n"
   ]
  },
  {
   "cell_type": "code",
   "execution_count": 3,
   "id": "84a8f9b1",
   "metadata": {},
   "outputs": [
    {
     "name": "stdout",
     "output_type": "stream",
     "text": [
      "====================================================================================================\n",
      "Train confusion matrix\n"
     ]
    }
   ],
   "source": [
    "\n",
    "\n",
    "def plot_confusion_matrix(y_true, y_pred, classes,\n",
    "                          normalize=False,\n",
    "                          title=None,\n",
    "                          cmap=plt.cm.Blues):\n",
    "    \"\"\"\n",
    "    This function prints and plots the confusion matrix.\n",
    "    Normalization can be applied by setting `normalize=True`.\n",
    "    \"\"\"\n",
    "    if not title:\n",
    "        if normalize:\n",
    "            title = 'Normalized confusion matrix'\n",
    "        else:\n",
    "            title = 'Confusion matrix, without normalization'\n",
    "\n",
    "    # Compute confusion matrix\n",
    "    cm = confusion_matrix(y_true, y_pred)\n",
    "    # Only use the labels that appear in the data\n",
    "    classes = classes[unique_labels(y_true, y_pred)]\n",
    "    if normalize:\n",
    "        cm = cm.astype('float') / cm.sum(axis=1)[:, np.newaxis]\n",
    "        print(\"Normalized confusion matrix\")\n",
    "    else:\n",
    "        print('Confusion matrix, without normalization')\n",
    "\n",
    "    #print(cm)\n",
    "\n",
    "    fig, ax = plt.subplots()\n",
    "    im = ax.imshow(cm, interpolation='nearest', cmap=cmap)\n",
    "    ax.figure.colorbar(im, ax=ax)\n",
    "    # We want to show all ticks...\n",
    "    ax.set(xticks=np.arange(cm.shape[1]),\n",
    "           yticks=np.arange(cm.shape[0]),\n",
    "           # ... and label them with the respective list entries\n",
    "           xticklabels=classes, yticklabels=classes,\n",
    "           title=title,\n",
    "           ylabel='True label',\n",
    "           xlabel='Predicted label')\n",
    "\n",
    "    # Rotate the tick labels and set their alignment.\n",
    "    plt.setp(ax.get_xticklabels(), rotation=45, ha=\"right\",\n",
    "             rotation_mode=\"anchor\")\n",
    "\n",
    "    # Loop over data dimensions and create text annotations.\n",
    "    fmt = '.2f' if normalize else 'd'\n",
    "    thresh = cm.max() / 2.\n",
    "    for i in range(cm.shape[0]):\n",
    "        for j in range(cm.shape[1]):\n",
    "            ax.text(j, i, format(cm[i, j], fmt),\n",
    "                    ha=\"center\", va=\"center\",\n",
    "                    color=\"white\" if cm[i, j] > thresh else \"black\")\n",
    "    fig.tight_layout()\n",
    "    return ax\n",
    "print(\"=\"*100)\n",
    "from sklearn.metrics import confusion_matrix\n",
    "print(\"Train confusion matrix\")\n"
   ]
  },
  {
   "cell_type": "code",
   "execution_count": 4,
   "id": "a5e06205",
   "metadata": {},
   "outputs": [],
   "source": [
    "import warnings\n",
    "warnings.simplefilter(action='ignore', category=FutureWarning)"
   ]
  },
  {
   "cell_type": "code",
   "execution_count": 5,
   "id": "ef7313a2",
   "metadata": {},
   "outputs": [],
   "source": [
    "df=pd.read_excel(R\"C:\\Users\\user\\Downloads\\sepm_ig.xlsx\")"
   ]
  },
  {
   "cell_type": "code",
   "execution_count": 6,
   "id": "37963d4a",
   "metadata": {},
   "outputs": [
    {
     "name": "stdout",
     "output_type": "stream",
     "text": [
      "<class 'pandas.core.frame.DataFrame'>\n",
      "RangeIndex: 500 entries, 0 to 499\n",
      "Data columns (total 10 columns):\n",
      " #   Column            Non-Null Count  Dtype  \n",
      "---  ------            --------------  -----  \n",
      " 0   post_url          500 non-null    object \n",
      " 1   num_comments      500 non-null    int64  \n",
      " 2   num_likes         500 non-null    int64  \n",
      " 3   caption           500 non-null    object \n",
      " 4   image_url         500 non-null    object \n",
      " 5   is_video          500 non-null    bool   \n",
      " 6   likes_scaled      500 non-null    float64\n",
      " 7   comments_scaled   500 non-null    float64\n",
      " 8   engagement_score  500 non-null    float64\n",
      " 9   engagement_high   500 non-null    int64  \n",
      "dtypes: bool(1), float64(3), int64(3), object(3)\n",
      "memory usage: 35.8+ KB\n"
     ]
    }
   ],
   "source": [
    "df.info()"
   ]
  },
  {
   "cell_type": "code",
   "execution_count": 7,
   "id": "cf437fb3",
   "metadata": {},
   "outputs": [
    {
     "data": {
      "text/html": [
       "<div>\n",
       "<style scoped>\n",
       "    .dataframe tbody tr th:only-of-type {\n",
       "        vertical-align: middle;\n",
       "    }\n",
       "\n",
       "    .dataframe tbody tr th {\n",
       "        vertical-align: top;\n",
       "    }\n",
       "\n",
       "    .dataframe thead th {\n",
       "        text-align: right;\n",
       "    }\n",
       "</style>\n",
       "<table border=\"1\" class=\"dataframe\">\n",
       "  <thead>\n",
       "    <tr style=\"text-align: right;\">\n",
       "      <th></th>\n",
       "      <th>post_url</th>\n",
       "      <th>num_comments</th>\n",
       "      <th>num_likes</th>\n",
       "      <th>caption</th>\n",
       "      <th>image_url</th>\n",
       "      <th>is_video</th>\n",
       "      <th>likes_scaled</th>\n",
       "      <th>comments_scaled</th>\n",
       "      <th>engagement_score</th>\n",
       "      <th>engagement_high</th>\n",
       "    </tr>\n",
       "  </thead>\n",
       "  <tbody>\n",
       "    <tr>\n",
       "      <th>0</th>\n",
       "      <td>https://www.instagram.com/p/Cm6lUH1BrVp/</td>\n",
       "      <td>155</td>\n",
       "      <td>23548</td>\n",
       "      <td>Image by @deepakumar_photography \\n\\nWhatcha l...</td>\n",
       "      <td>https://instagram.fidr4-2.fna.fbcdn.net/v/t51....</td>\n",
       "      <td>False</td>\n",
       "      <td>0.011827</td>\n",
       "      <td>0.024588</td>\n",
       "      <td>0.019483</td>\n",
       "      <td>0</td>\n",
       "    </tr>\n",
       "    <tr>\n",
       "      <th>1</th>\n",
       "      <td>https://www.instagram.com/p/Cm4mf5PgVNz/</td>\n",
       "      <td>98</td>\n",
       "      <td>21397</td>\n",
       "      <td>How are the animals at @georgiaaquarium celebr...</td>\n",
       "      <td>https://instagram.fidr4-3.fna.fbcdn.net/v/t51....</td>\n",
       "      <td>True</td>\n",
       "      <td>0.010747</td>\n",
       "      <td>0.015546</td>\n",
       "      <td>0.013626</td>\n",
       "      <td>0</td>\n",
       "    </tr>\n",
       "    <tr>\n",
       "      <th>2</th>\n",
       "      <td>https://www.instagram.com/p/Cm4AiByvFGF/</td>\n",
       "      <td>230</td>\n",
       "      <td>67377</td>\n",
       "      <td>Sun rises on a fresh start. \\n\\nTell us what p...</td>\n",
       "      <td>https://instagram.fidr4-2.fna.fbcdn.net/v/t51....</td>\n",
       "      <td>False</td>\n",
       "      <td>0.033840</td>\n",
       "      <td>0.036485</td>\n",
       "      <td>0.035427</td>\n",
       "      <td>1</td>\n",
       "    </tr>\n",
       "    <tr>\n",
       "      <th>3</th>\n",
       "      <td>https://www.instagram.com/p/Cm3XWnEp5Gd/</td>\n",
       "      <td>193</td>\n",
       "      <td>44645</td>\n",
       "      <td>#HappyNewYear! 🎆\\n\\nHow are you celebrating? ✨</td>\n",
       "      <td>https://instagram.fidr4-3.fna.fbcdn.net/v/t51....</td>\n",
       "      <td>True</td>\n",
       "      <td>0.022423</td>\n",
       "      <td>0.030615</td>\n",
       "      <td>0.027338</td>\n",
       "      <td>1</td>\n",
       "    </tr>\n",
       "    <tr>\n",
       "      <th>4</th>\n",
       "      <td>https://www.instagram.com/p/Cm2uIPLPM2m/</td>\n",
       "      <td>119</td>\n",
       "      <td>31637</td>\n",
       "      <td>Night falls and a #NewYear is nearby...\\n\\nWhe...</td>\n",
       "      <td>https://instagram.fidr4-3.fna.fbcdn.net/v/t51....</td>\n",
       "      <td>False</td>\n",
       "      <td>0.015890</td>\n",
       "      <td>0.018877</td>\n",
       "      <td>0.017682</td>\n",
       "      <td>0</td>\n",
       "    </tr>\n",
       "    <tr>\n",
       "      <th>5</th>\n",
       "      <td>https://www.instagram.com/p/Cmy24_TvoTC/</td>\n",
       "      <td>106</td>\n",
       "      <td>21364</td>\n",
       "      <td>Image by Paul Souders\\n\\nComing through!\\n\\nTh...</td>\n",
       "      <td>https://instagram.fidr4-2.fna.fbcdn.net/v/t51....</td>\n",
       "      <td>False</td>\n",
       "      <td>0.010730</td>\n",
       "      <td>0.016815</td>\n",
       "      <td>0.014381</td>\n",
       "      <td>0</td>\n",
       "    </tr>\n",
       "    <tr>\n",
       "      <th>6</th>\n",
       "      <td>https://www.instagram.com/p/CmwmwOhvcwz/</td>\n",
       "      <td>180</td>\n",
       "      <td>47205</td>\n",
       "      <td>Video by @ryansouthwell \\n\\nA #RestStop to tak...</td>\n",
       "      <td>https://instagram.fidr4-3.fna.fbcdn.net/v/t51....</td>\n",
       "      <td>True</td>\n",
       "      <td>0.023709</td>\n",
       "      <td>0.028553</td>\n",
       "      <td>0.026615</td>\n",
       "      <td>1</td>\n",
       "    </tr>\n",
       "    <tr>\n",
       "      <th>7</th>\n",
       "      <td>https://www.instagram.com/p/CmwSHGmvtUX/</td>\n",
       "      <td>153</td>\n",
       "      <td>37875</td>\n",
       "      <td>Image by Andrew Peacock\\n\\nOut of your three c...</td>\n",
       "      <td>https://instagram.fidr4-1.fna.fbcdn.net/v/t51....</td>\n",
       "      <td>False</td>\n",
       "      <td>0.019023</td>\n",
       "      <td>0.024270</td>\n",
       "      <td>0.022171</td>\n",
       "      <td>0</td>\n",
       "    </tr>\n",
       "    <tr>\n",
       "      <th>8</th>\n",
       "      <td>https://www.instagram.com/p/CmttaIChVtT/</td>\n",
       "      <td>283</td>\n",
       "      <td>76688</td>\n",
       "      <td>It's me. Hi. I'm the cutest. It's me. 🐾\\n\\nAn ...</td>\n",
       "      <td>https://instagram.fidr4-2.fna.fbcdn.net/v/t51....</td>\n",
       "      <td>False</td>\n",
       "      <td>0.038517</td>\n",
       "      <td>0.044892</td>\n",
       "      <td>0.042342</td>\n",
       "      <td>1</td>\n",
       "    </tr>\n",
       "    <tr>\n",
       "      <th>9</th>\n",
       "      <td>https://www.instagram.com/p/Cmrxz71B5O4/</td>\n",
       "      <td>85</td>\n",
       "      <td>20728</td>\n",
       "      <td>There are two types of people: people who enjo...</td>\n",
       "      <td>https://instagram.fidr4-1.fna.fbcdn.net/v/t51....</td>\n",
       "      <td>False</td>\n",
       "      <td>0.010411</td>\n",
       "      <td>0.013484</td>\n",
       "      <td>0.012254</td>\n",
       "      <td>0</td>\n",
       "    </tr>\n",
       "  </tbody>\n",
       "</table>\n",
       "</div>"
      ],
      "text/plain": [
       "                                   post_url  num_comments  num_likes  \\\n",
       "0  https://www.instagram.com/p/Cm6lUH1BrVp/           155      23548   \n",
       "1  https://www.instagram.com/p/Cm4mf5PgVNz/            98      21397   \n",
       "2  https://www.instagram.com/p/Cm4AiByvFGF/           230      67377   \n",
       "3  https://www.instagram.com/p/Cm3XWnEp5Gd/           193      44645   \n",
       "4  https://www.instagram.com/p/Cm2uIPLPM2m/           119      31637   \n",
       "5  https://www.instagram.com/p/Cmy24_TvoTC/           106      21364   \n",
       "6  https://www.instagram.com/p/CmwmwOhvcwz/           180      47205   \n",
       "7  https://www.instagram.com/p/CmwSHGmvtUX/           153      37875   \n",
       "8  https://www.instagram.com/p/CmttaIChVtT/           283      76688   \n",
       "9  https://www.instagram.com/p/Cmrxz71B5O4/            85      20728   \n",
       "\n",
       "                                             caption  \\\n",
       "0  Image by @deepakumar_photography \\n\\nWhatcha l...   \n",
       "1  How are the animals at @georgiaaquarium celebr...   \n",
       "2  Sun rises on a fresh start. \\n\\nTell us what p...   \n",
       "3     #HappyNewYear! 🎆\\n\\nHow are you celebrating? ✨   \n",
       "4  Night falls and a #NewYear is nearby...\\n\\nWhe...   \n",
       "5  Image by Paul Souders\\n\\nComing through!\\n\\nTh...   \n",
       "6  Video by @ryansouthwell \\n\\nA #RestStop to tak...   \n",
       "7  Image by Andrew Peacock\\n\\nOut of your three c...   \n",
       "8  It's me. Hi. I'm the cutest. It's me. 🐾\\n\\nAn ...   \n",
       "9  There are two types of people: people who enjo...   \n",
       "\n",
       "                                           image_url  is_video  likes_scaled  \\\n",
       "0  https://instagram.fidr4-2.fna.fbcdn.net/v/t51....     False      0.011827   \n",
       "1  https://instagram.fidr4-3.fna.fbcdn.net/v/t51....      True      0.010747   \n",
       "2  https://instagram.fidr4-2.fna.fbcdn.net/v/t51....     False      0.033840   \n",
       "3  https://instagram.fidr4-3.fna.fbcdn.net/v/t51....      True      0.022423   \n",
       "4  https://instagram.fidr4-3.fna.fbcdn.net/v/t51....     False      0.015890   \n",
       "5  https://instagram.fidr4-2.fna.fbcdn.net/v/t51....     False      0.010730   \n",
       "6  https://instagram.fidr4-3.fna.fbcdn.net/v/t51....      True      0.023709   \n",
       "7  https://instagram.fidr4-1.fna.fbcdn.net/v/t51....     False      0.019023   \n",
       "8  https://instagram.fidr4-2.fna.fbcdn.net/v/t51....     False      0.038517   \n",
       "9  https://instagram.fidr4-1.fna.fbcdn.net/v/t51....     False      0.010411   \n",
       "\n",
       "   comments_scaled  engagement_score  engagement_high  \n",
       "0         0.024588          0.019483                0  \n",
       "1         0.015546          0.013626                0  \n",
       "2         0.036485          0.035427                1  \n",
       "3         0.030615          0.027338                1  \n",
       "4         0.018877          0.017682                0  \n",
       "5         0.016815          0.014381                0  \n",
       "6         0.028553          0.026615                1  \n",
       "7         0.024270          0.022171                0  \n",
       "8         0.044892          0.042342                1  \n",
       "9         0.013484          0.012254                0  "
      ]
     },
     "execution_count": 7,
     "metadata": {},
     "output_type": "execute_result"
    }
   ],
   "source": [
    "df.head(10)"
   ]
  },
  {
   "cell_type": "code",
   "execution_count": 8,
   "id": "3e84b36f",
   "metadata": {},
   "outputs": [
    {
     "data": {
      "text/plain": [
       "0    250\n",
       "1    250\n",
       "Name: engagement_high, dtype: int64"
      ]
     },
     "execution_count": 8,
     "metadata": {},
     "output_type": "execute_result"
    }
   ],
   "source": [
    "df['engagement_high'].value_counts() #baseline acc = 50%"
   ]
  },
  {
   "cell_type": "code",
   "execution_count": 9,
   "id": "6961da01",
   "metadata": {},
   "outputs": [],
   "source": [
    "#turn from list to string\n",
    "df['cap_words'] = df['caption'].astype(str)"
   ]
  },
  {
   "cell_type": "code",
   "execution_count": 10,
   "id": "8cdd7497",
   "metadata": {},
   "outputs": [],
   "source": [
    "def remove_punctuation(comment):\n",
    "    for term in punctuation:\n",
    "        comment = comment.replace(term,'')\n",
    "    return comment\n",
    "\n",
    "df['cap_words'] = df['cap_words'].apply(remove_punctuation)"
   ]
  },
  {
   "cell_type": "code",
   "execution_count": 11,
   "id": "4a9141da",
   "metadata": {},
   "outputs": [
    {
     "data": {
      "text/html": [
       "<div>\n",
       "<style scoped>\n",
       "    .dataframe tbody tr th:only-of-type {\n",
       "        vertical-align: middle;\n",
       "    }\n",
       "\n",
       "    .dataframe tbody tr th {\n",
       "        vertical-align: top;\n",
       "    }\n",
       "\n",
       "    .dataframe thead th {\n",
       "        text-align: right;\n",
       "    }\n",
       "</style>\n",
       "<table border=\"1\" class=\"dataframe\">\n",
       "  <thead>\n",
       "    <tr style=\"text-align: right;\">\n",
       "      <th></th>\n",
       "      <th>post_url</th>\n",
       "      <th>num_comments</th>\n",
       "      <th>num_likes</th>\n",
       "      <th>caption</th>\n",
       "      <th>image_url</th>\n",
       "      <th>is_video</th>\n",
       "      <th>likes_scaled</th>\n",
       "      <th>comments_scaled</th>\n",
       "      <th>engagement_score</th>\n",
       "      <th>engagement_high</th>\n",
       "      <th>cap_words</th>\n",
       "    </tr>\n",
       "  </thead>\n",
       "  <tbody>\n",
       "    <tr>\n",
       "      <th>0</th>\n",
       "      <td>https://www.instagram.com/p/Cm6lUH1BrVp/</td>\n",
       "      <td>155</td>\n",
       "      <td>23548</td>\n",
       "      <td>Image by @deepakumar_photography \\n\\nWhatcha l...</td>\n",
       "      <td>https://instagram.fidr4-2.fna.fbcdn.net/v/t51....</td>\n",
       "      <td>False</td>\n",
       "      <td>0.011827</td>\n",
       "      <td>0.024588</td>\n",
       "      <td>0.019483</td>\n",
       "      <td>0</td>\n",
       "      <td>Image by deepakumarphotography \\n\\nWhatcha loo...</td>\n",
       "    </tr>\n",
       "    <tr>\n",
       "      <th>1</th>\n",
       "      <td>https://www.instagram.com/p/Cm4mf5PgVNz/</td>\n",
       "      <td>98</td>\n",
       "      <td>21397</td>\n",
       "      <td>How are the animals at @georgiaaquarium celebr...</td>\n",
       "      <td>https://instagram.fidr4-3.fna.fbcdn.net/v/t51....</td>\n",
       "      <td>True</td>\n",
       "      <td>0.010747</td>\n",
       "      <td>0.015546</td>\n",
       "      <td>0.013626</td>\n",
       "      <td>0</td>\n",
       "      <td>How are the animals at georgiaaquarium celebra...</td>\n",
       "    </tr>\n",
       "    <tr>\n",
       "      <th>2</th>\n",
       "      <td>https://www.instagram.com/p/Cm4AiByvFGF/</td>\n",
       "      <td>230</td>\n",
       "      <td>67377</td>\n",
       "      <td>Sun rises on a fresh start. \\n\\nTell us what p...</td>\n",
       "      <td>https://instagram.fidr4-2.fna.fbcdn.net/v/t51....</td>\n",
       "      <td>False</td>\n",
       "      <td>0.033840</td>\n",
       "      <td>0.036485</td>\n",
       "      <td>0.035427</td>\n",
       "      <td>1</td>\n",
       "      <td>Sun rises on a fresh start \\n\\nTell us what pl...</td>\n",
       "    </tr>\n",
       "    <tr>\n",
       "      <th>3</th>\n",
       "      <td>https://www.instagram.com/p/Cm3XWnEp5Gd/</td>\n",
       "      <td>193</td>\n",
       "      <td>44645</td>\n",
       "      <td>#HappyNewYear! 🎆\\n\\nHow are you celebrating? ✨</td>\n",
       "      <td>https://instagram.fidr4-3.fna.fbcdn.net/v/t51....</td>\n",
       "      <td>True</td>\n",
       "      <td>0.022423</td>\n",
       "      <td>0.030615</td>\n",
       "      <td>0.027338</td>\n",
       "      <td>1</td>\n",
       "      <td>HappyNewYear 🎆\\n\\nHow are you celebrating ✨</td>\n",
       "    </tr>\n",
       "    <tr>\n",
       "      <th>4</th>\n",
       "      <td>https://www.instagram.com/p/Cm2uIPLPM2m/</td>\n",
       "      <td>119</td>\n",
       "      <td>31637</td>\n",
       "      <td>Night falls and a #NewYear is nearby...\\n\\nWhe...</td>\n",
       "      <td>https://instagram.fidr4-3.fna.fbcdn.net/v/t51....</td>\n",
       "      <td>False</td>\n",
       "      <td>0.015890</td>\n",
       "      <td>0.018877</td>\n",
       "      <td>0.017682</td>\n",
       "      <td>0</td>\n",
       "      <td>Night falls and a NewYear is nearby\\n\\nWhere a...</td>\n",
       "    </tr>\n",
       "  </tbody>\n",
       "</table>\n",
       "</div>"
      ],
      "text/plain": [
       "                                   post_url  num_comments  num_likes  \\\n",
       "0  https://www.instagram.com/p/Cm6lUH1BrVp/           155      23548   \n",
       "1  https://www.instagram.com/p/Cm4mf5PgVNz/            98      21397   \n",
       "2  https://www.instagram.com/p/Cm4AiByvFGF/           230      67377   \n",
       "3  https://www.instagram.com/p/Cm3XWnEp5Gd/           193      44645   \n",
       "4  https://www.instagram.com/p/Cm2uIPLPM2m/           119      31637   \n",
       "\n",
       "                                             caption  \\\n",
       "0  Image by @deepakumar_photography \\n\\nWhatcha l...   \n",
       "1  How are the animals at @georgiaaquarium celebr...   \n",
       "2  Sun rises on a fresh start. \\n\\nTell us what p...   \n",
       "3     #HappyNewYear! 🎆\\n\\nHow are you celebrating? ✨   \n",
       "4  Night falls and a #NewYear is nearby...\\n\\nWhe...   \n",
       "\n",
       "                                           image_url  is_video  likes_scaled  \\\n",
       "0  https://instagram.fidr4-2.fna.fbcdn.net/v/t51....     False      0.011827   \n",
       "1  https://instagram.fidr4-3.fna.fbcdn.net/v/t51....      True      0.010747   \n",
       "2  https://instagram.fidr4-2.fna.fbcdn.net/v/t51....     False      0.033840   \n",
       "3  https://instagram.fidr4-3.fna.fbcdn.net/v/t51....      True      0.022423   \n",
       "4  https://instagram.fidr4-3.fna.fbcdn.net/v/t51....     False      0.015890   \n",
       "\n",
       "   comments_scaled  engagement_score  engagement_high  \\\n",
       "0         0.024588          0.019483                0   \n",
       "1         0.015546          0.013626                0   \n",
       "2         0.036485          0.035427                1   \n",
       "3         0.030615          0.027338                1   \n",
       "4         0.018877          0.017682                0   \n",
       "\n",
       "                                           cap_words  \n",
       "0  Image by deepakumarphotography \\n\\nWhatcha loo...  \n",
       "1  How are the animals at georgiaaquarium celebra...  \n",
       "2  Sun rises on a fresh start \\n\\nTell us what pl...  \n",
       "3        HappyNewYear 🎆\\n\\nHow are you celebrating ✨  \n",
       "4  Night falls and a NewYear is nearby\\n\\nWhere a...  "
      ]
     },
     "execution_count": 11,
     "metadata": {},
     "output_type": "execute_result"
    }
   ],
   "source": [
    "df.head()"
   ]
  },
  {
   "cell_type": "code",
   "execution_count": 12,
   "id": "22d3ede4",
   "metadata": {},
   "outputs": [],
   "source": [
    "#tfidf vectorizer\n",
    "corpus = df['cap_words'].tolist() \n",
    "vectorizer = TfidfVectorizer(stop_words='english',max_features=2000)\n",
    "X = vectorizer.fit_transform(corpus)"
   ]
  },
  {
   "cell_type": "code",
   "execution_count": 13,
   "id": "b9051d41",
   "metadata": {},
   "outputs": [
    {
     "data": {
      "text/plain": [
       "<500x2000 sparse matrix of type '<class 'numpy.float64'>'\n",
       "\twith 7703 stored elements in Compressed Sparse Row format>"
      ]
     },
     "execution_count": 13,
     "metadata": {},
     "output_type": "execute_result"
    }
   ],
   "source": [
    "X"
   ]
  },
  {
   "cell_type": "code",
   "execution_count": 14,
   "id": "a60c0c04",
   "metadata": {},
   "outputs": [],
   "source": [
    "#Captions test & train\n",
    "X_cap = X\n",
    "y = df['engagement_high']"
   ]
  },
  {
   "cell_type": "code",
   "execution_count": 15,
   "id": "c1292981",
   "metadata": {},
   "outputs": [
    {
     "data": {
      "text/plain": [
       "0      0\n",
       "1      0\n",
       "2      1\n",
       "3      1\n",
       "4      0\n",
       "      ..\n",
       "495    0\n",
       "496    0\n",
       "497    1\n",
       "498    1\n",
       "499    1\n",
       "Name: engagement_high, Length: 500, dtype: int64"
      ]
     },
     "execution_count": 15,
     "metadata": {},
     "output_type": "execute_result"
    }
   ],
   "source": [
    "y"
   ]
  },
  {
   "cell_type": "code",
   "execution_count": 16,
   "id": "316c0213",
   "metadata": {},
   "outputs": [],
   "source": [
    "X_train, X_test, y_train, y_test = train_test_split(X_cap, y, test_size=0.2, random_state=0)"
   ]
  },
  {
   "cell_type": "code",
   "execution_count": 17,
   "id": "98eefc90",
   "metadata": {},
   "outputs": [
    {
     "name": "stdout",
     "output_type": "stream",
     "text": [
      "Accuracy Score: 0.71\n",
      "ROC_AUC Score: 0.7773752012882448\n",
      "F1 Score: 0.7128712871287127\n",
      "Confusion Matrix:\n",
      "Confusion matrix, without normalization\n"
     ]
    },
    {
     "data": {
      "text/plain": [
       "<AxesSubplot:title={'center':'Confusion matrix'}, xlabel='Predicted label', ylabel='True label'>"
      ]
     },
     "execution_count": 17,
     "metadata": {},
     "output_type": "execute_result"
    },
    {
     "data": {
      "image/png": "[encoded data removed]",
      "text/plain": [
       "<Figure size 432x288 with 2 Axes>"
      ]
     },
     "metadata": {
      "needs_background": "light"
     },
     "output_type": "display_data"
    }
   ],
   "source": [
    "#Log. Reg captions only\n",
    "model = LogisticRegression()\n",
    "model.fit(X_train,y_train)\n",
    "y_pred = model.predict(X_test)\n",
    "y_pred_score = model.predict_proba(X_test)[:,1]\n",
    "cm = confusion_matrix(y_test, y_pred)\n",
    "\n",
    "print('Accuracy Score:',accuracy_score(y_test,y_pred))\n",
    "print('ROC_AUC Score:',roc_auc_score(y_test,y_pred_score))\n",
    "print('F1 Score:',f1_score(y_test,y_pred))\n",
    "print('Confusion Matrix:')\n",
    "\n",
    "plot_confusion_matrix(y_true = y_test, \n",
    "                      y_pred = y_pred, classes = np.unique(y_test),\n",
    "                     title = 'Confusion matrix')"
   ]
  },
  {
   "cell_type": "code",
   "execution_count": 18,
   "id": "8fe7b369",
   "metadata": {},
   "outputs": [],
   "source": [
    "#Random forest for captions only \n",
    "from sklearn.ensemble import RandomForestClassifier\n",
    "from sklearn.metrics import confusion_matrix\n",
    "from sklearn.model_selection import train_test_split"
   ]
  },
  {
   "cell_type": "code",
   "execution_count": 19,
   "id": "8798760d",
   "metadata": {},
   "outputs": [],
   "source": [
    "#Captions test & train\n",
    "X_cap = X\n",
    "y = df['engagement_high']"
   ]
  },
  {
   "cell_type": "code",
   "execution_count": 20,
   "id": "13e346a2",
   "metadata": {},
   "outputs": [],
   "source": [
    "\n",
    "# Split the data into training and test sets\n",
    "X_train, X_test, y_train, y_test = train_test_split(X, y, test_size=0.3, random_state=7)\n"
   ]
  },
  {
   "cell_type": "code",
   "execution_count": 21,
   "id": "194f0a2c",
   "metadata": {},
   "outputs": [],
   "source": [
    "\n",
    "\n",
    "# Create the random forest classifier\n",
    "clf = RandomForestClassifier(n_estimators=100, random_state=7)\n"
   ]
  },
  {
   "cell_type": "code",
   "execution_count": 22,
   "id": "d89234d1",
   "metadata": {},
   "outputs": [
    {
     "data": {
      "text/plain": [
       "RandomForestClassifier(random_state=7)"
      ]
     },
     "execution_count": 22,
     "metadata": {},
     "output_type": "execute_result"
    }
   ],
   "source": [
    "\n",
    "# Train the classifier on the training data\n",
    "clf.fit(X_train, y_train)\n"
   ]
  },
  {
   "cell_type": "code",
   "execution_count": 23,
   "id": "4a303270",
   "metadata": {},
   "outputs": [
    {
     "name": "stdout",
     "output_type": "stream",
     "text": [
      "0.68\n"
     ]
    }
   ],
   "source": [
    "\n",
    "# Print the accuracy of the model on the test data\n",
    "print(clf.score(X_test, y_test))\n"
   ]
  },
  {
   "cell_type": "code",
   "execution_count": 24,
   "id": "6d5cccc7",
   "metadata": {},
   "outputs": [],
   "source": [
    "# svm for captions only\n",
    "from sklearn.svm import SVC\n",
    "from sklearn.model_selection import train_test_split\n"
   ]
  },
  {
   "cell_type": "code",
   "execution_count": 25,
   "id": "3d200b72",
   "metadata": {},
   "outputs": [],
   "source": [
    "\n",
    "# determining values\n",
    "X_cap = X\n",
    "y = df['engagement_high']\n"
   ]
  },
  {
   "cell_type": "code",
   "execution_count": 26,
   "id": "bb0e65c6",
   "metadata": {},
   "outputs": [],
   "source": [
    "\n",
    "# Split the data into training and test sets\n",
    "X_train, X_test, y_train, y_test = train_test_split(X, y, random_state=0)\n"
   ]
  },
  {
   "cell_type": "code",
   "execution_count": 27,
   "id": "433bf0ac",
   "metadata": {},
   "outputs": [],
   "source": [
    "\n",
    "# Create the SVM classifier\n",
    "clf = SVC(kernel='linear', random_state=7)"
   ]
  },
  {
   "cell_type": "code",
   "execution_count": 28,
   "id": "bdf9b8ba",
   "metadata": {},
   "outputs": [
    {
     "data": {
      "text/plain": [
       "SVC(kernel='linear', random_state=7)"
      ]
     },
     "execution_count": 28,
     "metadata": {},
     "output_type": "execute_result"
    }
   ],
   "source": [
    "\n",
    "\n",
    "# Train the classifier on the training data\n",
    "clf.fit(X_train, y_train)"
   ]
  },
  {
   "cell_type": "code",
   "execution_count": 29,
   "id": "12f02ea3",
   "metadata": {},
   "outputs": [
    {
     "name": "stdout",
     "output_type": "stream",
     "text": [
      "0.656\n"
     ]
    }
   ],
   "source": [
    "\n",
    "\n",
    "# Print the accuracy of the model on the test data\n",
    "print(clf.score(X_test, y_test))"
   ]
  },
  {
   "cell_type": "code",
   "execution_count": null,
   "id": "32102a18",
   "metadata": {},
   "outputs": [],
   "source": []
  }
 ],
 "metadata": {
  "kernelspec": {
   "display_name": "Python 3",
   "language": "python",
   "name": "python3"
  },
  "language_info": {
   "codemirror_mode": {
    "name": "ipython",
    "version": 3
   },
   "file_extension": ".py",
   "mimetype": "text/x-python",
   "name": "python",
   "nbconvert_exporter": "python",
   "pygments_lexer": "ipython3",
   "version": "3.8.8"
  }
 },
 "nbformat": 4,
 "nbformat_minor": 5
}
